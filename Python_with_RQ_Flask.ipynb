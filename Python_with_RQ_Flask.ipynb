{
 "cells": [
  {
   "cell_type": "markdown",
   "metadata": {},
   "source": [
    "# The Guide using easy Job Queue with Python and Flask"
   ]
  },
  {
   "cell_type": "code",
   "execution_count": null,
   "metadata": {
    "collapsed": true
   },
   "outputs": [],
   "source": [
    "# Intsall Redis\n",
    "$ wget http://download.redis.io/releases/redis-5.0.0.tar.gz\n",
    "$ tar xzf redis-5.0.0.tar.gz\n",
    "$ cd redis-5.0.0\n",
    "$ make\n",
    "\n",
    "# Run redis server\n",
    "$ src/redis-server"
   ]
  },
  {
   "cell_type": "code",
   "execution_count": null,
   "metadata": {
    "collapsed": true
   },
   "outputs": [],
   "source": [
    "# Access your project, open console and run:\n",
    "# source git of rq: https://github.com/rq/rq\n",
    "$ pip install rq flask flask_restful\n",
    "$ pip freeze > requirements.txt"
   ]
  },
  {
   "cell_type": "code",
   "execution_count": null,
   "metadata": {
    "collapsed": true
   },
   "outputs": [],
   "source": [
    "# Set up the Worker\n",
    "# Let’s start by creating a worker process to listen for queued tasks. \n",
    "# Create a new file worker.py, and add this code:\n",
    "import os\n",
    "\n",
    "import redis\n",
    "from rq import Worker, Queue, Connection\n",
    "\n",
    "listen = ['default']\n",
    "\n",
    "redis_url = os.getenv('REDISTOGO_URL', 'redis://localhost:6379')\n",
    "\n",
    "conn = redis.from_url(redis_url)\n",
    "\n",
    "if __name__ == '__main__':\n",
    "    with Connection(conn):\n",
    "        worker = Worker(list(map(Queue, listen)))\n",
    "        worker.work()\n",
    "\n",
    "# Here, we listened for a queue called default and established a connection \n",
    "# to the Redis server on localhost:6379."
   ]
  },
  {
   "cell_type": "code",
   "execution_count": null,
   "metadata": {
    "collapsed": true
   },
   "outputs": [],
   "source": [
    "# open another console and run:\n",
    "$ python worker.py\n",
    "\n",
    "# if you run with production or server online, you can make a file worker.sh and add code:\n",
    "\n",
    "#!/bin/bash\n",
    "$ source activate your_env\n",
    "$ python worker.py\n",
    "\n",
    "# Now we need to add our app.py to send jobs to the queue…"
   ]
  },
  {
   "cell_type": "code",
   "execution_count": null,
   "metadata": {
    "collapsed": true
   },
   "outputs": [],
   "source": [
    "# Add some code for app.py file:\n",
    "\n",
    "from flask import Flask, request, jsonify\n",
    "from flask_restful import Resource, Api\n",
    "from rq import Queue\n",
    "from worker import conn\n",
    "\n",
    "app = Flask(__name__)\n",
    "api = Api(app)\n",
    "\n",
    "# set up a Redis connection and initialized a queue based on that connection.\n",
    "q = Queue(connection=conn)\n",
    "\n",
    "job = q.enqueue(your_function, param_1, param_2) # you can add more params if you want\n",
    "\n",
    "# The blocking function will automatically be executed in the background worker process."
   ]
  },
  {
   "cell_type": "code",
   "execution_count": null,
   "metadata": {
    "collapsed": true
   },
   "outputs": [],
   "source": [
    "# Monitoring\n",
    "# View with brower, you can install rq-dashboard:\n",
    "$ pip install rq-dashboard\n",
    "$ rq-dashboard\n",
    "\n",
    "# show info worker with the console\n",
    "$ rq info\n",
    "# or show detail:\n",
    "$ rq info -R\n",
    "# You can specify a poll interval, by using the --interval flag.\n",
    "$ rq info --interval 1\n",
    "\n",
    "# Manage jobs with console\n",
    "# Display all pending job IDs in the default queue. \n",
    "# We’re using the Redis DB number 2, the default RQ queue on a standard Pootle install.\n",
    "$ redis-cli -n 2 lrange rq:queue:default 0 -1\n",
    "03135097-00f8-46eb-b084-6f34a16d9940\n",
    "a07309b3-f056-47e7-856c-c608bda2f171\n",
    "3df6a559-2e3c-4c0c-b09c-1948b4bacda2\n",
    "\n",
    "# Display the failed job IDs.\n",
    "$ redis-cli -n 2 lrange rq:queue:failed 0 -1\n",
    "\n",
    "# To investigate a failed job simply add rq:job: prefix to a job ID and use a command such as this\n",
    "# This will allow you to see any traceback and investigate and solve them.\n",
    "$ redis-cli -n 2 hgetall rq:job:60ed13df-0ce5-4b98-96f0-f8e0294ba421\n",
    "\n",
    "# delete fail job:\n",
    "$ redis-cli -n 2 DEL \"rq:queue:failed\""
   ]
  }
 ],
 "metadata": {
  "kernelspec": {
   "display_name": "Python 3",
   "language": "python",
   "name": "python3"
  },
  "language_info": {
   "codemirror_mode": {
    "name": "ipython",
    "version": 3
   },
   "file_extension": ".py",
   "mimetype": "text/x-python",
   "name": "python",
   "nbconvert_exporter": "python",
   "pygments_lexer": "ipython3",
   "version": "3.6.3"
  }
 },
 "nbformat": 4,
 "nbformat_minor": 2
}
